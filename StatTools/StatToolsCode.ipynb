{
 "cells": [
  {
   "cell_type": "code",
   "execution_count": null,
   "source": [
    "import streamlit as st\r\n",
    "import pandas as pd\r\n",
    "\r\n",
    "googleSheetId = '<Google Sheets Id>'\r\n",
    "worksheetName = '<Sheet Name>'\r\n",
    "URL = 'https://docs.google.com/spreadsheets/d/{0}/gviz/tq?tqx=out:csv&sheet={1}'.format(\r\n",
    "\tgoogleSheetId,\r\n",
    "\tworksheetName\r\n",
    ")\r\n",
    "\r\n",
    "df = pandas.read_csv(URL)\r\n",
    "print(df)"
   ],
   "outputs": [],
   "metadata": {}
  },
  {
   "cell_type": "code",
   "execution_count": 5,
   "source": [
    "myurl = \"https://docs.google.com/spreadsheets/d/1Fx7f6rM5Ce331F9ipsEMn-xRjUKYiR3R_v9IDBusUUY/edit?usp=sharing\"\r\n",
    "myurl.split(\"spreadsheets/d/\")[1].split(\"/edit\")[0]"
   ],
   "outputs": [
    {
     "output_type": "execute_result",
     "data": {
      "text/plain": [
       "'1Fx7f6rM5Ce331F9ipsEMn-xRjUKYiR3R_v9IDBusUUY'"
      ]
     },
     "metadata": {},
     "execution_count": 5
    }
   ],
   "metadata": {}
  }
 ],
 "metadata": {
  "orig_nbformat": 4,
  "language_info": {
   "name": "python",
   "version": "3.9.7",
   "mimetype": "text/x-python",
   "codemirror_mode": {
    "name": "ipython",
    "version": 3
   },
   "pygments_lexer": "ipython3",
   "nbconvert_exporter": "python",
   "file_extension": ".py"
  },
  "kernelspec": {
   "name": "python3",
   "display_name": "Python 3.9.7 64-bit"
  },
  "interpreter": {
   "hash": "c168bd907d9edf6e891a59be7f4ab8312caabe41970dca16a2465f9e936d4872"
  }
 },
 "nbformat": 4,
 "nbformat_minor": 2
}